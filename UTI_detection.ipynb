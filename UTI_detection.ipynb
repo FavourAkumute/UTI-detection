{
 "cells": [
  {
   "cell_type": "code",
   "execution_count": 1,
   "metadata": {},
   "outputs": [
    {
     "name": "stderr",
     "output_type": "stream",
     "text": [
      "C:\\Users\\user\\anaconda3\\lib\\site-packages\\numpy\\_distributor_init.py:30: UserWarning: loaded more than 1 DLL from .libs:\n",
      "C:\\Users\\user\\anaconda3\\lib\\site-packages\\numpy\\.libs\\libopenblas.EL2C6PLE4ZYW3ECEVIV3OXXGRN2NRFM2.gfortran-win_amd64.dll\n",
      "C:\\Users\\user\\anaconda3\\lib\\site-packages\\numpy\\.libs\\libopenblas.XWYDX2IKJW2NMTWSFYNGFUWKQU3LYTCZ.gfortran-win_amd64.dll\n",
      "C:\\Users\\user\\anaconda3\\lib\\site-packages\\numpy\\.libs\\libopenblas64__v0.3.21-gcc_10_3_0.dll\n",
      "  warnings.warn(\"loaded more than 1 DLL from .libs:\"\n",
      "C:\\Users\\user\\anaconda3\\lib\\site-packages\\scipy\\__init__.py:146: UserWarning: A NumPy version >=1.16.5 and <1.23.0 is required for this version of SciPy (detected version 1.24.0\n",
      "  warnings.warn(f\"A NumPy version >={np_minversion} and <{np_maxversion}\"\n"
     ]
    }
   ],
   "source": [
    "#Data manipulation and preprocessing \n",
    "import pandas as pd\n",
    "import numpy as np\n",
    "from sklearn.preprocessing import LabelEncoder\n",
    "#Data exploration\n",
    "from sklearn.feature_selection import chi2\n",
    "import seaborn as sns\n",
    "sns.set()\n",
    "import matplotlib.pyplot as plt\n",
    "#Data balancing\n",
    "from imblearn.over_sampling import SMOTE\n",
    "#Modelling\n",
    "from sklearn.model_selection import train_test_split\n",
    "from sklearn.linear_model import LogisticRegression\n",
    "from sklearn.neighbors import KNeighborsClassifier\n",
    "from sklearn.ensemble import RandomForestClassifier\n",
    "#Model Evaluation\n",
    "from sklearn.metrics import ConfusionMatrixDisplay,confusion_matrix,classification_report,accuracy_score,roc_curve\n",
    "import warnings\n",
    "warnings.filterwarnings(\"ignore\")"
   ]
  },
  {
   "cell_type": "markdown",
   "metadata": {},
   "source": [
    "### Data preprocessing"
   ]
  },
  {
   "cell_type": "code",
   "execution_count": 122,
   "metadata": {},
   "outputs": [
    {
     "data": {
      "text/html": [
       "<div>\n",
       "<style scoped>\n",
       "    .dataframe tbody tr th:only-of-type {\n",
       "        vertical-align: middle;\n",
       "    }\n",
       "\n",
       "    .dataframe tbody tr th {\n",
       "        vertical-align: top;\n",
       "    }\n",
       "\n",
       "    .dataframe thead th {\n",
       "        text-align: right;\n",
       "    }\n",
       "</style>\n",
       "<table border=\"1\" class=\"dataframe\">\n",
       "  <thead>\n",
       "    <tr style=\"text-align: right;\">\n",
       "      <th></th>\n",
       "      <th>Unnamed: 0</th>\n",
       "      <th>Age</th>\n",
       "      <th>Gender</th>\n",
       "      <th>Color</th>\n",
       "      <th>Transparency</th>\n",
       "      <th>Glucose</th>\n",
       "      <th>Protein</th>\n",
       "      <th>pH</th>\n",
       "      <th>Specific Gravity</th>\n",
       "      <th>WBC</th>\n",
       "      <th>RBC</th>\n",
       "      <th>Epithelial Cells</th>\n",
       "      <th>Mucous Threads</th>\n",
       "      <th>Amorphous Urates</th>\n",
       "      <th>Bacteria</th>\n",
       "      <th>Diagnosis</th>\n",
       "    </tr>\n",
       "  </thead>\n",
       "  <tbody>\n",
       "    <tr>\n",
       "      <th>0</th>\n",
       "      <td>0</td>\n",
       "      <td>76.0</td>\n",
       "      <td>FEMALE</td>\n",
       "      <td>LIGHT YELLOW</td>\n",
       "      <td>CLEAR</td>\n",
       "      <td>NEGATIVE</td>\n",
       "      <td>NEGATIVE</td>\n",
       "      <td>5.0</td>\n",
       "      <td>1.010</td>\n",
       "      <td>1-3</td>\n",
       "      <td>0-2</td>\n",
       "      <td>OCCASIONAL</td>\n",
       "      <td>RARE</td>\n",
       "      <td>NONE SEEN</td>\n",
       "      <td>OCCASIONAL</td>\n",
       "      <td>NEGATIVE</td>\n",
       "    </tr>\n",
       "    <tr>\n",
       "      <th>1</th>\n",
       "      <td>1</td>\n",
       "      <td>9.0</td>\n",
       "      <td>MALE</td>\n",
       "      <td>DARK YELLOW</td>\n",
       "      <td>SLIGHTLY HAZY</td>\n",
       "      <td>NEGATIVE</td>\n",
       "      <td>1+</td>\n",
       "      <td>5.0</td>\n",
       "      <td>1.030</td>\n",
       "      <td>1-3</td>\n",
       "      <td>0-2</td>\n",
       "      <td>RARE</td>\n",
       "      <td>FEW</td>\n",
       "      <td>FEW</td>\n",
       "      <td>MODERATE</td>\n",
       "      <td>NEGATIVE</td>\n",
       "    </tr>\n",
       "    <tr>\n",
       "      <th>2</th>\n",
       "      <td>2</td>\n",
       "      <td>12.0</td>\n",
       "      <td>MALE</td>\n",
       "      <td>LIGHT YELLOW</td>\n",
       "      <td>SLIGHTLY HAZY</td>\n",
       "      <td>NEGATIVE</td>\n",
       "      <td>TRACE</td>\n",
       "      <td>5.0</td>\n",
       "      <td>1.030</td>\n",
       "      <td>0-3</td>\n",
       "      <td>0-2</td>\n",
       "      <td>RARE</td>\n",
       "      <td>FEW</td>\n",
       "      <td>MODERATE</td>\n",
       "      <td>RARE</td>\n",
       "      <td>NEGATIVE</td>\n",
       "    </tr>\n",
       "    <tr>\n",
       "      <th>3</th>\n",
       "      <td>3</td>\n",
       "      <td>77.0</td>\n",
       "      <td>MALE</td>\n",
       "      <td>BROWN</td>\n",
       "      <td>CLOUDY</td>\n",
       "      <td>NEGATIVE</td>\n",
       "      <td>1+</td>\n",
       "      <td>6.0</td>\n",
       "      <td>1.020</td>\n",
       "      <td>5-8</td>\n",
       "      <td>LOADED</td>\n",
       "      <td>RARE</td>\n",
       "      <td>RARE</td>\n",
       "      <td>NONE SEEN</td>\n",
       "      <td>FEW</td>\n",
       "      <td>NEGATIVE</td>\n",
       "    </tr>\n",
       "    <tr>\n",
       "      <th>4</th>\n",
       "      <td>4</td>\n",
       "      <td>29.0</td>\n",
       "      <td>FEMALE</td>\n",
       "      <td>YELLOW</td>\n",
       "      <td>HAZY</td>\n",
       "      <td>NEGATIVE</td>\n",
       "      <td>TRACE</td>\n",
       "      <td>6.0</td>\n",
       "      <td>1.025</td>\n",
       "      <td>1-4</td>\n",
       "      <td>0-2</td>\n",
       "      <td>RARE</td>\n",
       "      <td>RARE</td>\n",
       "      <td>NONE SEEN</td>\n",
       "      <td>FEW</td>\n",
       "      <td>NEGATIVE</td>\n",
       "    </tr>\n",
       "  </tbody>\n",
       "</table>\n",
       "</div>"
      ],
      "text/plain": [
       "   Unnamed: 0   Age  Gender         Color   Transparency   Glucose   Protein  \\\n",
       "0           0  76.0  FEMALE  LIGHT YELLOW          CLEAR  NEGATIVE  NEGATIVE   \n",
       "1           1   9.0    MALE   DARK YELLOW  SLIGHTLY HAZY  NEGATIVE        1+   \n",
       "2           2  12.0    MALE  LIGHT YELLOW  SLIGHTLY HAZY  NEGATIVE     TRACE   \n",
       "3           3  77.0    MALE         BROWN         CLOUDY  NEGATIVE        1+   \n",
       "4           4  29.0  FEMALE        YELLOW           HAZY  NEGATIVE     TRACE   \n",
       "\n",
       "    pH  Specific Gravity  WBC     RBC Epithelial Cells Mucous Threads  \\\n",
       "0  5.0             1.010  1-3     0-2       OCCASIONAL           RARE   \n",
       "1  5.0             1.030  1-3     0-2             RARE            FEW   \n",
       "2  5.0             1.030  0-3     0-2             RARE            FEW   \n",
       "3  6.0             1.020  5-8  LOADED             RARE           RARE   \n",
       "4  6.0             1.025  1-4     0-2             RARE           RARE   \n",
       "\n",
       "  Amorphous Urates    Bacteria Diagnosis  \n",
       "0        NONE SEEN  OCCASIONAL  NEGATIVE  \n",
       "1              FEW    MODERATE  NEGATIVE  \n",
       "2         MODERATE        RARE  NEGATIVE  \n",
       "3        NONE SEEN         FEW  NEGATIVE  \n",
       "4        NONE SEEN         FEW  NEGATIVE  "
      ]
     },
     "execution_count": 122,
     "metadata": {},
     "output_type": "execute_result"
    }
   ],
   "source": [
    "data = pd.read_csv(\"urinalysis_tests.csv\")#importing the dataset\n",
    "data.head()"
   ]
  },
  {
   "cell_type": "code",
   "execution_count": 123,
   "metadata": {},
   "outputs": [
    {
     "data": {
      "text/html": [
       "<div>\n",
       "<style scoped>\n",
       "    .dataframe tbody tr th:only-of-type {\n",
       "        vertical-align: middle;\n",
       "    }\n",
       "\n",
       "    .dataframe tbody tr th {\n",
       "        vertical-align: top;\n",
       "    }\n",
       "\n",
       "    .dataframe thead th {\n",
       "        text-align: right;\n",
       "    }\n",
       "</style>\n",
       "<table border=\"1\" class=\"dataframe\">\n",
       "  <thead>\n",
       "    <tr style=\"text-align: right;\">\n",
       "      <th></th>\n",
       "      <th>Age</th>\n",
       "      <th>Gender</th>\n",
       "      <th>Color</th>\n",
       "      <th>Transparency</th>\n",
       "      <th>Glucose</th>\n",
       "      <th>Protein</th>\n",
       "      <th>pH</th>\n",
       "      <th>Specific Gravity</th>\n",
       "      <th>WBC</th>\n",
       "      <th>RBC</th>\n",
       "      <th>Epithelial Cells</th>\n",
       "      <th>Mucous Threads</th>\n",
       "      <th>Amorphous Urates</th>\n",
       "      <th>Bacteria</th>\n",
       "      <th>Diagnosis</th>\n",
       "    </tr>\n",
       "  </thead>\n",
       "  <tbody>\n",
       "    <tr>\n",
       "      <th>0</th>\n",
       "      <td>76.0</td>\n",
       "      <td>FEMALE</td>\n",
       "      <td>LIGHT YELLOW</td>\n",
       "      <td>CLEAR</td>\n",
       "      <td>NEGATIVE</td>\n",
       "      <td>NEGATIVE</td>\n",
       "      <td>5.0</td>\n",
       "      <td>1.010</td>\n",
       "      <td>1-3</td>\n",
       "      <td>0-2</td>\n",
       "      <td>OCCASIONAL</td>\n",
       "      <td>RARE</td>\n",
       "      <td>NONE SEEN</td>\n",
       "      <td>OCCASIONAL</td>\n",
       "      <td>NEGATIVE</td>\n",
       "    </tr>\n",
       "    <tr>\n",
       "      <th>1</th>\n",
       "      <td>9.0</td>\n",
       "      <td>MALE</td>\n",
       "      <td>DARK YELLOW</td>\n",
       "      <td>SLIGHTLY HAZY</td>\n",
       "      <td>NEGATIVE</td>\n",
       "      <td>1+</td>\n",
       "      <td>5.0</td>\n",
       "      <td>1.030</td>\n",
       "      <td>1-3</td>\n",
       "      <td>0-2</td>\n",
       "      <td>RARE</td>\n",
       "      <td>FEW</td>\n",
       "      <td>FEW</td>\n",
       "      <td>MODERATE</td>\n",
       "      <td>NEGATIVE</td>\n",
       "    </tr>\n",
       "    <tr>\n",
       "      <th>2</th>\n",
       "      <td>12.0</td>\n",
       "      <td>MALE</td>\n",
       "      <td>LIGHT YELLOW</td>\n",
       "      <td>SLIGHTLY HAZY</td>\n",
       "      <td>NEGATIVE</td>\n",
       "      <td>TRACE</td>\n",
       "      <td>5.0</td>\n",
       "      <td>1.030</td>\n",
       "      <td>0-3</td>\n",
       "      <td>0-2</td>\n",
       "      <td>RARE</td>\n",
       "      <td>FEW</td>\n",
       "      <td>MODERATE</td>\n",
       "      <td>RARE</td>\n",
       "      <td>NEGATIVE</td>\n",
       "    </tr>\n",
       "    <tr>\n",
       "      <th>3</th>\n",
       "      <td>77.0</td>\n",
       "      <td>MALE</td>\n",
       "      <td>BROWN</td>\n",
       "      <td>CLOUDY</td>\n",
       "      <td>NEGATIVE</td>\n",
       "      <td>1+</td>\n",
       "      <td>6.0</td>\n",
       "      <td>1.020</td>\n",
       "      <td>5-8</td>\n",
       "      <td>LOADED</td>\n",
       "      <td>RARE</td>\n",
       "      <td>RARE</td>\n",
       "      <td>NONE SEEN</td>\n",
       "      <td>FEW</td>\n",
       "      <td>NEGATIVE</td>\n",
       "    </tr>\n",
       "    <tr>\n",
       "      <th>4</th>\n",
       "      <td>29.0</td>\n",
       "      <td>FEMALE</td>\n",
       "      <td>YELLOW</td>\n",
       "      <td>HAZY</td>\n",
       "      <td>NEGATIVE</td>\n",
       "      <td>TRACE</td>\n",
       "      <td>6.0</td>\n",
       "      <td>1.025</td>\n",
       "      <td>1-4</td>\n",
       "      <td>0-2</td>\n",
       "      <td>RARE</td>\n",
       "      <td>RARE</td>\n",
       "      <td>NONE SEEN</td>\n",
       "      <td>FEW</td>\n",
       "      <td>NEGATIVE</td>\n",
       "    </tr>\n",
       "  </tbody>\n",
       "</table>\n",
       "</div>"
      ],
      "text/plain": [
       "    Age  Gender         Color   Transparency   Glucose   Protein   pH  \\\n",
       "0  76.0  FEMALE  LIGHT YELLOW          CLEAR  NEGATIVE  NEGATIVE  5.0   \n",
       "1   9.0    MALE   DARK YELLOW  SLIGHTLY HAZY  NEGATIVE        1+  5.0   \n",
       "2  12.0    MALE  LIGHT YELLOW  SLIGHTLY HAZY  NEGATIVE     TRACE  5.0   \n",
       "3  77.0    MALE         BROWN         CLOUDY  NEGATIVE        1+  6.0   \n",
       "4  29.0  FEMALE        YELLOW           HAZY  NEGATIVE     TRACE  6.0   \n",
       "\n",
       "   Specific Gravity  WBC     RBC Epithelial Cells Mucous Threads  \\\n",
       "0             1.010  1-3     0-2       OCCASIONAL           RARE   \n",
       "1             1.030  1-3     0-2             RARE            FEW   \n",
       "2             1.030  0-3     0-2             RARE            FEW   \n",
       "3             1.020  5-8  LOADED             RARE           RARE   \n",
       "4             1.025  1-4     0-2             RARE           RARE   \n",
       "\n",
       "  Amorphous Urates    Bacteria Diagnosis  \n",
       "0        NONE SEEN  OCCASIONAL  NEGATIVE  \n",
       "1              FEW    MODERATE  NEGATIVE  \n",
       "2         MODERATE        RARE  NEGATIVE  \n",
       "3        NONE SEEN         FEW  NEGATIVE  \n",
       "4        NONE SEEN         FEW  NEGATIVE  "
      ]
     },
     "execution_count": 123,
     "metadata": {},
     "output_type": "execute_result"
    }
   ],
   "source": [
    "data.drop(columns = \"Unnamed: 0\", axis = 1,inplace = True)#removing the unnamed column\n",
    "data.head()"
   ]
  },
  {
   "cell_type": "code",
   "execution_count": 124,
   "metadata": {},
   "outputs": [
    {
     "data": {
      "text/plain": [
       "(1436, 15)"
      ]
     },
     "execution_count": 124,
     "metadata": {},
     "output_type": "execute_result"
    }
   ],
   "source": [
    "data.shape #size of the dataset"
   ]
  },
  {
   "cell_type": "code",
   "execution_count": 125,
   "metadata": {},
   "outputs": [
    {
     "data": {
      "text/plain": [
       "NEGATIVE    1355\n",
       "POSITIVE      81\n",
       "Name: Diagnosis, dtype: int64"
      ]
     },
     "execution_count": 125,
     "metadata": {},
     "output_type": "execute_result"
    }
   ],
   "source": [
    "data['Diagnosis'].value_counts() #values in the diagnosis"
   ]
  },
  {
   "cell_type": "code",
   "execution_count": 126,
   "metadata": {},
   "outputs": [
    {
     "data": {
      "text/plain": [
       "Text(0.5, 1.0, 'Negative versus positive diagnosis')"
      ]
     },
     "execution_count": 126,
     "metadata": {},
     "output_type": "execute_result"
    },
    {
     "data": {
      "image/png": "[encoded data removed]",
      "text/plain": [
       "<Figure size 720x432 with 1 Axes>"
      ]
     },
     "metadata": {},
     "output_type": "display_data"
    }
   ],
   "source": [
    "#Negative and positive diagnosis\n",
    "plt.figure(figsize = (10,6))\n",
    "sns.countplot(data['Diagnosis'], palette=['green', 'black'])\n",
    "plt.title('Negative versus positive diagnosis',fontdict = {'size':15})"
   ]
  },
  {
   "cell_type": "code",
   "execution_count": 129,
   "metadata": {},
   "outputs": [
    {
     "data": {
      "text/plain": [
       "Text(0.5, 1.0, 'Percentage of female UTI patients among the female population')"
      ]
     },
     "execution_count": 129,
     "metadata": {},
     "output_type": "execute_result"
    },
    {
     "data": {
      "image/png": "[encoded data removed]",
      "text/plain": [
       "<Figure size 576x576 with 1 Axes>"
      ]
     },
     "metadata": {},
     "output_type": "display_data"
    }
   ],
   "source": [
    "positive_diag = data[data['Diagnosis']==\"POSITIVE\"] #positive diagnosis subset\n",
    "#percentage of female uti patients among the female population\n",
    "perc_fem = len(positive_diag[positive_diag[\"Gender\"]=='FEMALE'])/len(data[data[\"Gender\"]=='FEMALE'])\n",
    "plt.figure(figsize = (8,8)) #size of the pie chart\n",
    "plt.pie([perc_fem,1-perc_fem],\n",
    "        explode =[0.1,0.05],\n",
    "        colors = ['black','red'],\n",
    "       autopct = \"%2.1f %%\",\n",
    "        textprops={\"color\":\"white\",\n",
    "                   \"size\" : 20}\n",
    "       )#pie plot showing results\n",
    "plt.title(\"Percentage of female UTI patients among the female population\",\n",
    "         fontdict = {\"size\":20}) #title of the chart and its size"
   ]
  },
  {
   "cell_type": "markdown",
   "metadata": {},
   "source": [
    "## Data Preprocessing"
   ]
  },
  {
   "cell_type": "code",
   "execution_count": 131,
   "metadata": {
    "scrolled": true
   },
   "outputs": [
    {
     "data": {
      "text/plain": [
       "Age                 0\n",
       "Gender              0\n",
       "Color               1\n",
       "Transparency        0\n",
       "Glucose             0\n",
       "Protein             0\n",
       "pH                  0\n",
       "Specific Gravity    0\n",
       "WBC                 0\n",
       "RBC                 0\n",
       "Epithelial Cells    0\n",
       "Mucous Threads      0\n",
       "Amorphous Urates    0\n",
       "Bacteria            0\n",
       "Diagnosis           0\n",
       "dtype: int64"
      ]
     },
     "execution_count": 131,
     "metadata": {},
     "output_type": "execute_result"
    }
   ],
   "source": [
    "#Missing data analysis\n",
    "data.isnull().sum()"
   ]
  },
  {
   "cell_type": "code",
   "execution_count": 86,
   "metadata": {
    "scrolled": true
   },
   "outputs": [
    {
     "data": {
      "text/plain": [
       "Age                 0\n",
       "Gender              0\n",
       "Color               0\n",
       "Transparency        0\n",
       "Glucose             0\n",
       "Protein             0\n",
       "pH                  0\n",
       "Specific Gravity    0\n",
       "WBC                 0\n",
       "RBC                 0\n",
       "Epithelial Cells    0\n",
       "Mucous Threads      0\n",
       "Amorphous Urates    0\n",
       "Bacteria            0\n",
       "Diagnosis           0\n",
       "dtype: int64"
      ]
     },
     "execution_count": 86,
     "metadata": {},
     "output_type": "execute_result"
    }
   ],
   "source": [
    "#Drop missing data rows\n",
    "data.dropna(inplace = True)\n",
    "data.isnull().sum()"
   ]
  },
  {
   "cell_type": "code",
   "execution_count": 132,
   "metadata": {},
   "outputs": [],
   "source": [
    "#convert categorical data to numerical data\n",
    "cat_data = data[['Gender', 'Color', 'Transparency', 'Glucose', 'Protein', 'pH',\n",
    "       'Specific Gravity', 'WBC', 'RBC', 'Epithelial Cells', 'Mucous Threads',\n",
    "       'Amorphous Urates', 'Bacteria', 'Diagnosis']]\n",
    "LB = LabelEncoder()\n",
    "cat_data = cat_data.apply(LB.fit_transform)"
   ]
  },
  {
   "cell_type": "code",
   "execution_count": 68,
   "metadata": {},
   "outputs": [],
   "source": [
    "#Chi-square for correlation in the categorical data\n",
    "correlation = pd.DataFrame(data=[(0 for i in range(len(cat_data.columns))) for i in range(len(cat_data.columns))], \n",
    "                         columns=list(cat_data.columns))\n",
    "correlation.set_index(pd.Index(list(cat_data.columns)), inplace = True)\n",
    "\n",
    "# Finding p_value for all columns and putting them in the resultant matrix\n",
    "for i in list(cat_data.columns):\n",
    "    for j in list(cat_data.columns):\n",
    "        if i != j:\n",
    "            chi2_val, p_val = chi2(np.array(cat_data[i].astype(\"float64\")).reshape(-1, 1),\n",
    "                                   np.array(cat_data[j].astype(\"float64\")).reshape(-1, 1))\n",
    "            correlation.loc[i,j] = p_val\n"
   ]
  },
  {
   "cell_type": "code",
   "execution_count": 77,
   "metadata": {},
   "outputs": [
    {
     "data": {
      "image/png": "[encoded data removed]",
      "text/plain": [
       "<Figure size 576x576 with 2 Axes>"
      ]
     },
     "metadata": {},
     "output_type": "display_data"
    }
   ],
   "source": [
    "# Plotting a heatmap\n",
    "plt.figure(figsize=(8,8))\n",
    "sns.heatmap(correlation[correlation<0.05], cmap='Blues')\n",
    "plt.title('Chi-Square Correlation plot')\n",
    "plt.show()"
   ]
  },
  {
   "cell_type": "code",
   "execution_count": 78,
   "metadata": {},
   "outputs": [
    {
     "data": {
      "image/png": "[encoded data removed]",
      "text/plain": [
       "<Figure size 576x576 with 2 Axes>"
      ]
     },
     "metadata": {},
     "output_type": "display_data"
    }
   ],
   "source": [
    "# Plotting a heatmap\n",
    "plt.figure(figsize=(8,8))\n",
    "sns.heatmap(correlation, cmap='Blues')\n",
    "plt.title('Chi-Square Correlation plot')\n",
    "plt.show()"
   ]
  },
  {
   "cell_type": "code",
   "execution_count": 85,
   "metadata": {},
   "outputs": [
    {
     "data": {
      "text/plain": [
       "[<matplotlib.lines.Line2D at 0x1f7ee0ffe20>]"
      ]
     },
     "execution_count": 85,
     "metadata": {},
     "output_type": "execute_result"
    },
    {
     "data": {
      "image/png": "[encoded data removed]",
      "text/plain": [
       "<Figure size 432x288 with 1 Axes>"
      ]
     },
     "metadata": {},
     "output_type": "display_data"
    }
   ],
   "source": [
    "plt.plot(cat_data[\"Gender\"],cat_data[\"Transparency\"])"
   ]
  },
  {
   "cell_type": "code",
   "execution_count": 76,
   "metadata": {},
   "outputs": [
    {
     "data": {
      "text/html": [
       "<div>\n",
       "<style scoped>\n",
       "    .dataframe tbody tr th:only-of-type {\n",
       "        vertical-align: middle;\n",
       "    }\n",
       "\n",
       "    .dataframe tbody tr th {\n",
       "        vertical-align: top;\n",
       "    }\n",
       "\n",
       "    .dataframe thead th {\n",
       "        text-align: right;\n",
       "    }\n",
       "</style>\n",
       "<table border=\"1\" class=\"dataframe\">\n",
       "  <thead>\n",
       "    <tr style=\"text-align: right;\">\n",
       "      <th></th>\n",
       "      <th>Gender</th>\n",
       "      <th>Color</th>\n",
       "      <th>Transparency</th>\n",
       "      <th>Glucose</th>\n",
       "      <th>Protein</th>\n",
       "      <th>pH</th>\n",
       "      <th>Specific Gravity</th>\n",
       "      <th>WBC</th>\n",
       "      <th>RBC</th>\n",
       "      <th>Epithelial Cells</th>\n",
       "      <th>Mucous Threads</th>\n",
       "      <th>Amorphous Urates</th>\n",
       "      <th>Bacteria</th>\n",
       "      <th>Diagnosis</th>\n",
       "    </tr>\n",
       "  </thead>\n",
       "  <tbody>\n",
       "    <tr>\n",
       "      <th>Gender</th>\n",
       "      <td>0.000000e+00</td>\n",
       "      <td>NaN</td>\n",
       "      <td>1.119795e-08</td>\n",
       "      <td>NaN</td>\n",
       "      <td>4.629961e-02</td>\n",
       "      <td>NaN</td>\n",
       "      <td>NaN</td>\n",
       "      <td>1.746270e-02</td>\n",
       "      <td>NaN</td>\n",
       "      <td>2.078380e-53</td>\n",
       "      <td>NaN</td>\n",
       "      <td>NaN</td>\n",
       "      <td>2.307293e-19</td>\n",
       "      <td>1.756571e-03</td>\n",
       "    </tr>\n",
       "    <tr>\n",
       "      <th>Color</th>\n",
       "      <td>NaN</td>\n",
       "      <td>0.000000e+00</td>\n",
       "      <td>NaN</td>\n",
       "      <td>NaN</td>\n",
       "      <td>4.517818e-09</td>\n",
       "      <td>NaN</td>\n",
       "      <td>3.541703e-15</td>\n",
       "      <td>NaN</td>\n",
       "      <td>2.265114e-05</td>\n",
       "      <td>NaN</td>\n",
       "      <td>1.514538e-07</td>\n",
       "      <td>NaN</td>\n",
       "      <td>NaN</td>\n",
       "      <td>NaN</td>\n",
       "    </tr>\n",
       "    <tr>\n",
       "      <th>Transparency</th>\n",
       "      <td>1.721145e-28</td>\n",
       "      <td>1.836706e-09</td>\n",
       "      <td>0.000000e+00</td>\n",
       "      <td>NaN</td>\n",
       "      <td>8.896798e-41</td>\n",
       "      <td>4.253628e-17</td>\n",
       "      <td>9.901998e-13</td>\n",
       "      <td>3.220215e-185</td>\n",
       "      <td>2.290290e-60</td>\n",
       "      <td>1.905175e-80</td>\n",
       "      <td>1.394869e-11</td>\n",
       "      <td>2.724597e-65</td>\n",
       "      <td>9.342825e-158</td>\n",
       "      <td>4.929363e-42</td>\n",
       "    </tr>\n",
       "    <tr>\n",
       "      <th>Glucose</th>\n",
       "      <td>NaN</td>\n",
       "      <td>NaN</td>\n",
       "      <td>NaN</td>\n",
       "      <td>0.000000e+00</td>\n",
       "      <td>NaN</td>\n",
       "      <td>NaN</td>\n",
       "      <td>NaN</td>\n",
       "      <td>NaN</td>\n",
       "      <td>NaN</td>\n",
       "      <td>NaN</td>\n",
       "      <td>NaN</td>\n",
       "      <td>NaN</td>\n",
       "      <td>NaN</td>\n",
       "      <td>NaN</td>\n",
       "    </tr>\n",
       "    <tr>\n",
       "      <th>Protein</th>\n",
       "      <td>NaN</td>\n",
       "      <td>NaN</td>\n",
       "      <td>6.897045e-04</td>\n",
       "      <td>NaN</td>\n",
       "      <td>0.000000e+00</td>\n",
       "      <td>NaN</td>\n",
       "      <td>NaN</td>\n",
       "      <td>NaN</td>\n",
       "      <td>NaN</td>\n",
       "      <td>NaN</td>\n",
       "      <td>NaN</td>\n",
       "      <td>NaN</td>\n",
       "      <td>1.200661e-02</td>\n",
       "      <td>NaN</td>\n",
       "    </tr>\n",
       "    <tr>\n",
       "      <th>pH</th>\n",
       "      <td>6.166975e-03</td>\n",
       "      <td>5.855221e-06</td>\n",
       "      <td>NaN</td>\n",
       "      <td>1.130427e-02</td>\n",
       "      <td>6.126899e-03</td>\n",
       "      <td>0.000000e+00</td>\n",
       "      <td>6.548566e-34</td>\n",
       "      <td>NaN</td>\n",
       "      <td>NaN</td>\n",
       "      <td>1.009407e-02</td>\n",
       "      <td>2.464584e-09</td>\n",
       "      <td>8.811753e-07</td>\n",
       "      <td>NaN</td>\n",
       "      <td>NaN</td>\n",
       "    </tr>\n",
       "    <tr>\n",
       "      <th>Specific Gravity</th>\n",
       "      <td>2.201440e-03</td>\n",
       "      <td>5.668978e-106</td>\n",
       "      <td>3.899368e-06</td>\n",
       "      <td>NaN</td>\n",
       "      <td>1.746788e-72</td>\n",
       "      <td>3.317293e-55</td>\n",
       "      <td>0.000000e+00</td>\n",
       "      <td>1.508073e-02</td>\n",
       "      <td>2.126967e-04</td>\n",
       "      <td>NaN</td>\n",
       "      <td>1.266678e-76</td>\n",
       "      <td>9.003773e-03</td>\n",
       "      <td>1.069589e-02</td>\n",
       "      <td>NaN</td>\n",
       "    </tr>\n",
       "    <tr>\n",
       "      <th>WBC</th>\n",
       "      <td>0.000000e+00</td>\n",
       "      <td>1.543715e-91</td>\n",
       "      <td>0.000000e+00</td>\n",
       "      <td>3.584384e-50</td>\n",
       "      <td>0.000000e+00</td>\n",
       "      <td>3.324294e-67</td>\n",
       "      <td>1.653929e-25</td>\n",
       "      <td>0.000000e+00</td>\n",
       "      <td>0.000000e+00</td>\n",
       "      <td>0.000000e+00</td>\n",
       "      <td>1.625691e-48</td>\n",
       "      <td>5.774656e-170</td>\n",
       "      <td>0.000000e+00</td>\n",
       "      <td>6.923807e-221</td>\n",
       "    </tr>\n",
       "    <tr>\n",
       "      <th>RBC</th>\n",
       "      <td>3.849270e-08</td>\n",
       "      <td>0.000000e+00</td>\n",
       "      <td>4.814018e-300</td>\n",
       "      <td>1.110650e-63</td>\n",
       "      <td>0.000000e+00</td>\n",
       "      <td>3.647730e-16</td>\n",
       "      <td>6.181215e-116</td>\n",
       "      <td>0.000000e+00</td>\n",
       "      <td>0.000000e+00</td>\n",
       "      <td>5.777024e-60</td>\n",
       "      <td>1.383165e-13</td>\n",
       "      <td>1.850988e-13</td>\n",
       "      <td>1.105271e-83</td>\n",
       "      <td>9.814713e-05</td>\n",
       "    </tr>\n",
       "    <tr>\n",
       "      <th>Epithelial Cells</th>\n",
       "      <td>9.643030e-93</td>\n",
       "      <td>3.665344e-02</td>\n",
       "      <td>1.644448e-19</td>\n",
       "      <td>4.487884e-02</td>\n",
       "      <td>NaN</td>\n",
       "      <td>NaN</td>\n",
       "      <td>3.787233e-02</td>\n",
       "      <td>1.066081e-34</td>\n",
       "      <td>8.504153e-07</td>\n",
       "      <td>0.000000e+00</td>\n",
       "      <td>4.971890e-02</td>\n",
       "      <td>NaN</td>\n",
       "      <td>1.665997e-40</td>\n",
       "      <td>3.408743e-04</td>\n",
       "    </tr>\n",
       "    <tr>\n",
       "      <th>Mucous Threads</th>\n",
       "      <td>NaN</td>\n",
       "      <td>4.281416e-24</td>\n",
       "      <td>NaN</td>\n",
       "      <td>NaN</td>\n",
       "      <td>NaN</td>\n",
       "      <td>3.154809e-06</td>\n",
       "      <td>2.006068e-24</td>\n",
       "      <td>1.784656e-23</td>\n",
       "      <td>5.414607e-06</td>\n",
       "      <td>1.530602e-08</td>\n",
       "      <td>0.000000e+00</td>\n",
       "      <td>4.879684e-02</td>\n",
       "      <td>8.193305e-04</td>\n",
       "      <td>NaN</td>\n",
       "    </tr>\n",
       "    <tr>\n",
       "      <th>Amorphous Urates</th>\n",
       "      <td>NaN</td>\n",
       "      <td>NaN</td>\n",
       "      <td>NaN</td>\n",
       "      <td>NaN</td>\n",
       "      <td>NaN</td>\n",
       "      <td>NaN</td>\n",
       "      <td>NaN</td>\n",
       "      <td>NaN</td>\n",
       "      <td>NaN</td>\n",
       "      <td>NaN</td>\n",
       "      <td>NaN</td>\n",
       "      <td>0.000000e+00</td>\n",
       "      <td>NaN</td>\n",
       "      <td>NaN</td>\n",
       "    </tr>\n",
       "    <tr>\n",
       "      <th>Bacteria</th>\n",
       "      <td>1.241699e-35</td>\n",
       "      <td>4.646053e-02</td>\n",
       "      <td>8.651646e-45</td>\n",
       "      <td>2.084517e-02</td>\n",
       "      <td>2.125003e-07</td>\n",
       "      <td>6.334673e-05</td>\n",
       "      <td>2.092745e-02</td>\n",
       "      <td>1.774836e-64</td>\n",
       "      <td>5.994349e-22</td>\n",
       "      <td>1.273507e-50</td>\n",
       "      <td>9.058153e-03</td>\n",
       "      <td>1.112896e-08</td>\n",
       "      <td>0.000000e+00</td>\n",
       "      <td>NaN</td>\n",
       "    </tr>\n",
       "    <tr>\n",
       "      <th>Diagnosis</th>\n",
       "      <td>5.541269e-05</td>\n",
       "      <td>NaN</td>\n",
       "      <td>2.892265e-22</td>\n",
       "      <td>NaN</td>\n",
       "      <td>1.092876e-03</td>\n",
       "      <td>NaN</td>\n",
       "      <td>NaN</td>\n",
       "      <td>2.105517e-61</td>\n",
       "      <td>8.169301e-04</td>\n",
       "      <td>3.868137e-04</td>\n",
       "      <td>NaN</td>\n",
       "      <td>1.389803e-02</td>\n",
       "      <td>5.170049e-39</td>\n",
       "      <td>0.000000e+00</td>\n",
       "    </tr>\n",
       "  </tbody>\n",
       "</table>\n",
       "</div>"
      ],
      "text/plain": [
       "                        Gender          Color   Transparency       Glucose  \\\n",
       "Gender            0.000000e+00            NaN   1.119795e-08           NaN   \n",
       "Color                      NaN   0.000000e+00            NaN           NaN   \n",
       "Transparency      1.721145e-28   1.836706e-09   0.000000e+00           NaN   \n",
       "Glucose                    NaN            NaN            NaN  0.000000e+00   \n",
       "Protein                    NaN            NaN   6.897045e-04           NaN   \n",
       "pH                6.166975e-03   5.855221e-06            NaN  1.130427e-02   \n",
       "Specific Gravity  2.201440e-03  5.668978e-106   3.899368e-06           NaN   \n",
       "WBC               0.000000e+00   1.543715e-91   0.000000e+00  3.584384e-50   \n",
       "RBC               3.849270e-08   0.000000e+00  4.814018e-300  1.110650e-63   \n",
       "Epithelial Cells  9.643030e-93   3.665344e-02   1.644448e-19  4.487884e-02   \n",
       "Mucous Threads             NaN   4.281416e-24            NaN           NaN   \n",
       "Amorphous Urates           NaN            NaN            NaN           NaN   \n",
       "Bacteria          1.241699e-35   4.646053e-02   8.651646e-45  2.084517e-02   \n",
       "Diagnosis         5.541269e-05            NaN   2.892265e-22           NaN   \n",
       "\n",
       "                       Protein            pH  Specific Gravity            WBC  \\\n",
       "Gender            4.629961e-02           NaN               NaN   1.746270e-02   \n",
       "Color             4.517818e-09           NaN      3.541703e-15            NaN   \n",
       "Transparency      8.896798e-41  4.253628e-17      9.901998e-13  3.220215e-185   \n",
       "Glucose                    NaN           NaN               NaN            NaN   \n",
       "Protein           0.000000e+00           NaN               NaN            NaN   \n",
       "pH                6.126899e-03  0.000000e+00      6.548566e-34            NaN   \n",
       "Specific Gravity  1.746788e-72  3.317293e-55      0.000000e+00   1.508073e-02   \n",
       "WBC               0.000000e+00  3.324294e-67      1.653929e-25   0.000000e+00   \n",
       "RBC               0.000000e+00  3.647730e-16     6.181215e-116   0.000000e+00   \n",
       "Epithelial Cells           NaN           NaN      3.787233e-02   1.066081e-34   \n",
       "Mucous Threads             NaN  3.154809e-06      2.006068e-24   1.784656e-23   \n",
       "Amorphous Urates           NaN           NaN               NaN            NaN   \n",
       "Bacteria          2.125003e-07  6.334673e-05      2.092745e-02   1.774836e-64   \n",
       "Diagnosis         1.092876e-03           NaN               NaN   2.105517e-61   \n",
       "\n",
       "                           RBC  Epithelial Cells  Mucous Threads  \\\n",
       "Gender                     NaN      2.078380e-53             NaN   \n",
       "Color             2.265114e-05               NaN    1.514538e-07   \n",
       "Transparency      2.290290e-60      1.905175e-80    1.394869e-11   \n",
       "Glucose                    NaN               NaN             NaN   \n",
       "Protein                    NaN               NaN             NaN   \n",
       "pH                         NaN      1.009407e-02    2.464584e-09   \n",
       "Specific Gravity  2.126967e-04               NaN    1.266678e-76   \n",
       "WBC               0.000000e+00      0.000000e+00    1.625691e-48   \n",
       "RBC               0.000000e+00      5.777024e-60    1.383165e-13   \n",
       "Epithelial Cells  8.504153e-07      0.000000e+00    4.971890e-02   \n",
       "Mucous Threads    5.414607e-06      1.530602e-08    0.000000e+00   \n",
       "Amorphous Urates           NaN               NaN             NaN   \n",
       "Bacteria          5.994349e-22      1.273507e-50    9.058153e-03   \n",
       "Diagnosis         8.169301e-04      3.868137e-04             NaN   \n",
       "\n",
       "                  Amorphous Urates       Bacteria      Diagnosis  \n",
       "Gender                         NaN   2.307293e-19   1.756571e-03  \n",
       "Color                          NaN            NaN            NaN  \n",
       "Transparency          2.724597e-65  9.342825e-158   4.929363e-42  \n",
       "Glucose                        NaN            NaN            NaN  \n",
       "Protein                        NaN   1.200661e-02            NaN  \n",
       "pH                    8.811753e-07            NaN            NaN  \n",
       "Specific Gravity      9.003773e-03   1.069589e-02            NaN  \n",
       "WBC                  5.774656e-170   0.000000e+00  6.923807e-221  \n",
       "RBC                   1.850988e-13   1.105271e-83   9.814713e-05  \n",
       "Epithelial Cells               NaN   1.665997e-40   3.408743e-04  \n",
       "Mucous Threads        4.879684e-02   8.193305e-04            NaN  \n",
       "Amorphous Urates      0.000000e+00            NaN            NaN  \n",
       "Bacteria              1.112896e-08   0.000000e+00            NaN  \n",
       "Diagnosis             1.389803e-02   5.170049e-39   0.000000e+00  "
      ]
     },
     "execution_count": 76,
     "metadata": {},
     "output_type": "execute_result"
    }
   ],
   "source": [
    "correlation[correlation<0.05]"
   ]
  },
  {
   "cell_type": "code",
   "execution_count": 65,
   "metadata": {},
   "outputs": [
    {
     "data": {
      "text/plain": [
       "Index(['Age', 'Gender', 'Color', 'Transparency', 'Glucose', 'Protein', 'pH',\n",
       "       'Specific Gravity', 'WBC', 'RBC', 'Epithelial Cells', 'Mucous Threads',\n",
       "       'Amorphous Urates', 'Bacteria', 'Diagnosis'],\n",
       "      dtype='object')"
      ]
     },
     "execution_count": 65,
     "metadata": {},
     "output_type": "execute_result"
    }
   ],
   "source": [
    "data.columns"
   ]
  },
  {
   "cell_type": "code",
   "execution_count": 87,
   "metadata": {},
   "outputs": [
    {
     "name": "stdout",
     "output_type": "stream",
     "text": [
      "['FEMALE' 'MALE']\n",
      "[0 1]\n",
      "['LIGHT YELLOW' 'DARK YELLOW' 'BROWN' 'YELLOW' 'AMBER' 'STRAW' 'RED'\n",
      " 'REDDISH' 'REDDISH YELLOW' 'LIGHT RED']\n",
      "[ 4  2  1  9  0  8  5  6  7  3 10]\n",
      "['CLEAR' 'SLIGHTLY HAZY' 'CLOUDY' 'HAZY' 'TURBID']\n",
      "[0 3 1 2 4]\n",
      "['NEGATIVE' '3+' '1+' 'TRACE' '4+' '2+']\n",
      "[4 2 0 5 3 1]\n",
      "['NEGATIVE' '1+' 'TRACE' '2+' '3+']\n",
      "[3 0 4 1 2]\n",
      "[5.  6.  7.  7.5 6.5 8. ]\n",
      "[0 1 3 4 2 5]\n",
      "[1.01  1.03  1.02  1.025 1.005 1.015]\n",
      "[1 5 3 4 0 2]\n",
      "['1-3' '0-3' '5-8' '1-4' '3-5' '70-75' '0-2' '1-2' '2-4' '6-8' '8-10'\n",
      " '10-12' '0-1' '4-6' '20-25' '25-30' '18-25' '3-6' 'LOADED' '28-30' '5-7'\n",
      " '12-15' '15-17' '30-35' '8-12' '2-3' '35-40' '50-55' '11-15' '48-55'\n",
      " '45-50' '12-14' '14-16' '17-20' '55-58' '9-11' '>50' '15-20' '20-22'\n",
      " '18-20' '7-9' 'TNTC' '2-5' '34-36' '30-32' '23-25' '5-10' '9-15' '13-15'\n",
      " '4-8' '11-14' '10-16' '7-15' '7-8' '0-4' '15-22' '15-21' '>100' '7-10'\n",
      " '15-28' '1-5' '4-5' '2-7' '3-7' '10-15' '4-7' '79-85' '28-35' '3-10'\n",
      " '5-6' '3-4' '15-18' '4-10' '10-18' '8-11']\n",
      "[ 5  2 56  6 39 64  1  4 28 59 66  8  0 48 32 34 26 40 73 35 55 15 18 43\n",
      " 68 27 45 57 13 52 51 14 17 24 58 69 72 20 31 25 63 74 29 44 42 33 53 70\n",
      " 16 50 12 10 61 62  3 22 21 71 60 23  7 47 30 41  9 49 65 36 37 54 38 19\n",
      " 46 11 67]\n",
      "['0-2' 'LOADED' '1-2' '2-4' '0-1' '6-14' '9-12' '1-3' '13-15' '3-5' '0-3'\n",
      " '9-11' '18-22' '5-7' '>100' '18-25' '4-6' '2-3' '8-10' '10-12' '18-21'\n",
      " '20-22' '6-8' '5-8' '23-25' '30-35' '11-13' '>50' '16-18' '36-38' '18-20'\n",
      " '1-4' '85-87' '0-0' '3-6' '2-5' '22-24' 'TNTC' '1-5' '0-4' '25-30' '1-6'\n",
      " '12-15' '5-10' '48-62' '20-25' '4-10' '12-17' '8-12' '2-6' '25-32'\n",
      " '28-30' '38-40']\n",
      "[ 2 51  5 21  1 42 48  6 14 31  3 47 18 40 49 19 37 20 44 10 17 24 43 41\n",
      " 27 33 11 50 15 34 16  7 46  0 32 22 26 52  8  4 28  9 12 39 38 25 36 13\n",
      " 45 23 29 30 35]\n",
      "['OCCASIONAL' 'RARE' 'PLENTY' 'MODERATE' 'FEW' 'NONE SEEN' 'LOADED']\n",
      "[4 6 5 2 0 3 1]\n",
      "['RARE' 'FEW' 'NONE SEEN' 'MODERATE' 'PLENTY' 'OCCASIONAL']\n",
      "[5 0 2 1 4 3]\n",
      "['NONE SEEN' 'FEW' 'MODERATE' 'PLENTY' 'RARE' 'OCCASIONAL']\n",
      "[2 0 1 4 5 3]\n",
      "['OCCASIONAL' 'MODERATE' 'RARE' 'FEW' 'PLENTY' 'LOADED']\n",
      "[3 2 5 0 4 1]\n",
      "['NEGATIVE' 'POSITIVE']\n",
      "[0 1]\n"
     ]
    }
   ],
   "source": [
    "for col in cat_data.columns: #categorical data and what each label encoded represents\n",
    "    print(data[col].unique())\n",
    "    print(cat_data[col].unique())"
   ]
  },
  {
   "cell_type": "code",
   "execution_count": 140,
   "metadata": {},
   "outputs": [
    {
     "data": {
      "text/plain": [
       "1436"
      ]
     },
     "execution_count": 140,
     "metadata": {},
     "output_type": "execute_result"
    }
   ],
   "source": [
    "#Feature selection and data splitting\n",
    "x = pd.concat([cat_data,data['Age']],axis = 1)\n",
    "y = cat_data['Diagnosis']\n",
    "len(y)"
   ]
  },
  {
   "cell_type": "code",
   "execution_count": 141,
   "metadata": {},
   "outputs": [
    {
     "data": {
      "text/html": [
       "<div>\n",
       "<style scoped>\n",
       "    .dataframe tbody tr th:only-of-type {\n",
       "        vertical-align: middle;\n",
       "    }\n",
       "\n",
       "    .dataframe tbody tr th {\n",
       "        vertical-align: top;\n",
       "    }\n",
       "\n",
       "    .dataframe thead th {\n",
       "        text-align: right;\n",
       "    }\n",
       "</style>\n",
       "<table border=\"1\" class=\"dataframe\">\n",
       "  <thead>\n",
       "    <tr style=\"text-align: right;\">\n",
       "      <th></th>\n",
       "      <th>Gender</th>\n",
       "      <th>Color</th>\n",
       "      <th>Transparency</th>\n",
       "      <th>Glucose</th>\n",
       "      <th>Protein</th>\n",
       "      <th>pH</th>\n",
       "      <th>Specific Gravity</th>\n",
       "      <th>WBC</th>\n",
       "      <th>RBC</th>\n",
       "      <th>Epithelial Cells</th>\n",
       "      <th>Mucous Threads</th>\n",
       "      <th>Amorphous Urates</th>\n",
       "      <th>Bacteria</th>\n",
       "      <th>Diagnosis</th>\n",
       "      <th>Age</th>\n",
       "    </tr>\n",
       "  </thead>\n",
       "  <tbody>\n",
       "    <tr>\n",
       "      <th>0</th>\n",
       "      <td>0</td>\n",
       "      <td>4</td>\n",
       "      <td>0</td>\n",
       "      <td>4</td>\n",
       "      <td>3</td>\n",
       "      <td>0</td>\n",
       "      <td>1</td>\n",
       "      <td>5</td>\n",
       "      <td>2</td>\n",
       "      <td>4</td>\n",
       "      <td>5</td>\n",
       "      <td>2</td>\n",
       "      <td>3</td>\n",
       "      <td>0</td>\n",
       "      <td>76.0</td>\n",
       "    </tr>\n",
       "    <tr>\n",
       "      <th>1</th>\n",
       "      <td>1</td>\n",
       "      <td>2</td>\n",
       "      <td>3</td>\n",
       "      <td>4</td>\n",
       "      <td>0</td>\n",
       "      <td>0</td>\n",
       "      <td>5</td>\n",
       "      <td>5</td>\n",
       "      <td>2</td>\n",
       "      <td>6</td>\n",
       "      <td>0</td>\n",
       "      <td>0</td>\n",
       "      <td>2</td>\n",
       "      <td>0</td>\n",
       "      <td>9.0</td>\n",
       "    </tr>\n",
       "    <tr>\n",
       "      <th>2</th>\n",
       "      <td>1</td>\n",
       "      <td>4</td>\n",
       "      <td>3</td>\n",
       "      <td>4</td>\n",
       "      <td>4</td>\n",
       "      <td>0</td>\n",
       "      <td>5</td>\n",
       "      <td>2</td>\n",
       "      <td>2</td>\n",
       "      <td>6</td>\n",
       "      <td>0</td>\n",
       "      <td>1</td>\n",
       "      <td>5</td>\n",
       "      <td>0</td>\n",
       "      <td>12.0</td>\n",
       "    </tr>\n",
       "    <tr>\n",
       "      <th>3</th>\n",
       "      <td>1</td>\n",
       "      <td>1</td>\n",
       "      <td>1</td>\n",
       "      <td>4</td>\n",
       "      <td>0</td>\n",
       "      <td>1</td>\n",
       "      <td>3</td>\n",
       "      <td>56</td>\n",
       "      <td>51</td>\n",
       "      <td>6</td>\n",
       "      <td>5</td>\n",
       "      <td>2</td>\n",
       "      <td>0</td>\n",
       "      <td>0</td>\n",
       "      <td>77.0</td>\n",
       "    </tr>\n",
       "    <tr>\n",
       "      <th>4</th>\n",
       "      <td>0</td>\n",
       "      <td>9</td>\n",
       "      <td>2</td>\n",
       "      <td>4</td>\n",
       "      <td>4</td>\n",
       "      <td>1</td>\n",
       "      <td>4</td>\n",
       "      <td>6</td>\n",
       "      <td>2</td>\n",
       "      <td>6</td>\n",
       "      <td>5</td>\n",
       "      <td>2</td>\n",
       "      <td>0</td>\n",
       "      <td>0</td>\n",
       "      <td>29.0</td>\n",
       "    </tr>\n",
       "  </tbody>\n",
       "</table>\n",
       "</div>"
      ],
      "text/plain": [
       "   Gender  Color  Transparency  Glucose  Protein  pH  Specific Gravity  WBC  \\\n",
       "0       0      4             0        4        3   0                 1    5   \n",
       "1       1      2             3        4        0   0                 5    5   \n",
       "2       1      4             3        4        4   0                 5    2   \n",
       "3       1      1             1        4        0   1                 3   56   \n",
       "4       0      9             2        4        4   1                 4    6   \n",
       "\n",
       "   RBC  Epithelial Cells  Mucous Threads  Amorphous Urates  Bacteria  \\\n",
       "0    2                 4               5                 2         3   \n",
       "1    2                 6               0                 0         2   \n",
       "2    2                 6               0                 1         5   \n",
       "3   51                 6               5                 2         0   \n",
       "4    2                 6               5                 2         0   \n",
       "\n",
       "   Diagnosis   Age  \n",
       "0          0  76.0  \n",
       "1          0   9.0  \n",
       "2          0  12.0  \n",
       "3          0  77.0  \n",
       "4          0  29.0  "
      ]
     },
     "execution_count": 141,
     "metadata": {},
     "output_type": "execute_result"
    }
   ],
   "source": [
    "x.head()"
   ]
  },
  {
   "cell_type": "code",
   "execution_count": 112,
   "metadata": {},
   "outputs": [
    {
     "data": {
      "text/plain": [
       "Gender              0\n",
       "Color               0\n",
       "Transparency        0\n",
       "Glucose             0\n",
       "Protein             0\n",
       "pH                  0\n",
       "Specific Gravity    0\n",
       "WBC                 0\n",
       "RBC                 0\n",
       "Epithelial Cells    0\n",
       "Mucous Threads      0\n",
       "Amorphous Urates    0\n",
       "Bacteria            0\n",
       "Diagnosis           0\n",
       "dtype: int64"
      ]
     },
     "execution_count": 112,
     "metadata": {},
     "output_type": "execute_result"
    }
   ],
   "source": [
    "cat_data.isnull().sum()"
   ]
  },
  {
   "cell_type": "code",
   "execution_count": 146,
   "metadata": {},
   "outputs": [
    {
     "name": "stdout",
     "output_type": "stream",
     "text": [
      "1005\n",
      "431\n"
     ]
    }
   ],
   "source": [
    "x_train,x_test,y_train,y_test = train_test_split(x,y,test_size = 0.3, random_state = 40)\n",
    "print(len(x_train))\n",
    "print(len(x_test))"
   ]
  },
  {
   "cell_type": "code",
   "execution_count": 151,
   "metadata": {},
   "outputs": [
    {
     "data": {
      "text/plain": [
       "0.9559164733178654"
      ]
     },
     "execution_count": 151,
     "metadata": {},
     "output_type": "execute_result"
    }
   ],
   "source": [
    "#Model training\n",
    "knn = KNeighborsClassifier()\n",
    "knn.fit(x_train,y_train)\n",
    "knn_pred = knn.predict(x_test)\n",
    "accuracy_score(y_test,knn_pred)"
   ]
  },
  {
   "cell_type": "code",
   "execution_count": 153,
   "metadata": {},
   "outputs": [
    {
     "data": {
      "text/plain": [
       "[<matplotlib.lines.Line2D at 0x1f7ec9217f0>,\n",
       " <matplotlib.lines.Line2D at 0x1f7ec9218b0>,\n",
       " <matplotlib.lines.Line2D at 0x1f7ec921970>]"
      ]
     },
     "execution_count": 153,
     "metadata": {},
     "output_type": "execute_result"
    },
    {
     "data": {
      "image/png": "[encoded data removed]",
      "text/plain": [
       "<Figure size 432x288 with 1 Axes>"
      ]
     },
     "metadata": {},
     "output_type": "display_data"
    }
   ],
   "source": [
    "plt.plot(roc_curve(y_test,knn_pred))"
   ]
  }
 ],
 "metadata": {
  "kernelspec": {
   "display_name": "Python 3 (ipykernel)",
   "language": "python",
   "name": "python3"
  },
  "language_info": {
   "codemirror_mode": {
    "name": "ipython",
    "version": 3
   },
   "file_extension": ".py",
   "mimetype": "text/x-python",
   "name": "python",
   "nbconvert_exporter": "python",
   "pygments_lexer": "ipython3",
   "version": "3.12.4"
  }
 },
 "nbformat": 4,
 "nbformat_minor": 4
}
